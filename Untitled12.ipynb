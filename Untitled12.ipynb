{
  "nbformat": 4,
  "nbformat_minor": 0,
  "metadata": {
    "colab": {
      "provenance": [],
      "authorship_tag": "ABX9TyP8AwD5lySM6i9rTl35WVEA",
      "include_colab_link": true
    },
    "kernelspec": {
      "name": "python3",
      "display_name": "Python 3"
    },
    "language_info": {
      "name": "python"
    }
  },
  "cells": [
    {
      "cell_type": "markdown",
      "metadata": {
        "id": "view-in-github",
        "colab_type": "text"
      },
      "source": [
        "<a href=\"https://colab.research.google.com/github/KHALIDMEHMOODPK1998/2nd-deployement/blob/main/Untitled12.ipynb\" target=\"_parent\"><img src=\"https://colab.research.google.com/assets/colab-badge.svg\" alt=\"Open In Colab\"/></a>"
      ]
    },
    {
      "cell_type": "code",
      "execution_count": null,
      "metadata": {
        "id": "SkMlKzP8gnti"
      },
      "outputs": [],
      "source": [
        "# Check if a number is positive or negative\n",
        "num = -7\n",
        "\n",
        "if num > 0:\n",
        "    print(\"The number is positive\")\n",
        "else:\n",
        "    print(\"The number is negative\")\n"
      ]
    },
    {
      "cell_type": "markdown",
      "source": [],
      "metadata": {
        "id": "5NLUuLUSgrfu"
      }
    },
    {
      "cell_type": "code",
      "source": [
        "# Check if a number is even or odd\n",
        "num = 6\n",
        "\n",
        "if num % 2 == 0:\n",
        "    print(\"Even number\")\n",
        "else:\n",
        "    print(\"Odd number\")\n"
      ],
      "metadata": {
        "id": "7IY-ICPxgqcN"
      },
      "execution_count": null,
      "outputs": []
    },
    {
      "cell_type": "code",
      "source": [
        "# Compare two numbers\n",
        "a = 12\n",
        "b = 9\n",
        "\n",
        "if a > b:\n",
        "    print(\"a is greater than b\")\n",
        "elif a < b:\n",
        "    print(\"a is smaller than b\")\n",
        "else:\n",
        "    print(\"a and b are equal\")\n"
      ],
      "metadata": {
        "id": "8qy3soxng1qd"
      },
      "execution_count": null,
      "outputs": []
    },
    {
      "cell_type": "code",
      "source": [
        "# Add two numbers\n",
        "a = 10\n",
        "b = 5\n",
        "result = a + b\n",
        "print(\"Addition:\", result)\n"
      ],
      "metadata": {
        "id": "ebgMAUkvg77d"
      },
      "execution_count": null,
      "outputs": []
    },
    {
      "cell_type": "code",
      "source": [
        "# Find the remainder when a number is divided by another\n",
        "num1 = 17\n",
        "num2 = 3\n",
        "remainder = num1 % num2\n",
        "print(\"Remainder:\", remainder)\n"
      ],
      "metadata": {
        "id": "kUSYGX9ng-LM"
      },
      "execution_count": null,
      "outputs": []
    },
    {
      "cell_type": "code",
      "source": [
        "# Calculate the area of a rectangle\n",
        "length = 8\n",
        "width = 4\n",
        "area = length * width\n",
        "print(\"Area of Rectangle:\", area)\n"
      ],
      "metadata": {
        "id": "8bs00VBKhBDi"
      },
      "execution_count": null,
      "outputs": []
    }
  ]
}